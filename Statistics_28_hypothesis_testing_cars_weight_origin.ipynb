{
  "nbformat": 4,
  "nbformat_minor": 0,
  "metadata": {
    "colab": {
      "provenance": [],
      "toc_visible": true,
      "authorship_tag": "ABX9TyOKd0MYNWF9s7B5VdYgzXlb",
      "include_colab_link": true
    },
    "kernelspec": {
      "name": "python3",
      "display_name": "Python 3"
    },
    "language_info": {
      "name": "python"
    }
  },
  "cells": [
    {
      "cell_type": "markdown",
      "metadata": {
        "id": "view-in-github",
        "colab_type": "text"
      },
      "source": [
        "<a href=\"https://colab.research.google.com/github/micah-shull/Statistics/blob/main/Statistics_28_hypothesis_testing_cars_weight_origin.ipynb\" target=\"_parent\"><img src=\"https://colab.research.google.com/assets/colab-badge.svg\" alt=\"Open In Colab\"/></a>"
      ]
    },
    {
      "cell_type": "markdown",
      "source": [
        "\n",
        "## **Question**:\n",
        "Is the average weight of cars the same across origin groups (USA, Europe, Japan)?\n",
        "\n",
        "---\n",
        "\n",
        "### **Hypotheses**:\n",
        "- **Null Hypothesis (H₀):**  \n",
        "  The mean weight of cars is the same across all origin groups (USA, Europe, and Japan).  \n",
        "  *In other words, origin has no effect on the mean weight of cars.*\n",
        "\n",
        "- **Alternative Hypothesis (H₁):**  \n",
        "  At least one origin group has a different mean weight.  \n",
        "  *In other words, the mean weight differs between at least two origins.*\n",
        "\n"
      ],
      "metadata": {
        "id": "o1_P1A3a_lTm"
      }
    },
    {
      "cell_type": "code",
      "execution_count": 30,
      "metadata": {
        "colab": {
          "base_uri": "https://localhost:8080/"
        },
        "id": "pnU2iABG4kL0",
        "outputId": "7635906d-f8d5-4809-d8a0-5435ab866bfd"
      },
      "outputs": [
        {
          "output_type": "stream",
          "name": "stdout",
          "text": [
            "<class 'pandas.core.frame.DataFrame'>\n",
            "RangeIndex: 398 entries, 0 to 397\n",
            "Data columns (total 9 columns):\n",
            " #   Column        Non-Null Count  Dtype   \n",
            "---  ------        --------------  -----   \n",
            " 0   mpg           398 non-null    float64 \n",
            " 1   cylinders     398 non-null    category\n",
            " 2   displacement  398 non-null    float64 \n",
            " 3   horsepower    392 non-null    float64 \n",
            " 4   weight        398 non-null    int64   \n",
            " 5   acceleration  398 non-null    float64 \n",
            " 6   model_year    398 non-null    int64   \n",
            " 7   origin        398 non-null    category\n",
            " 8   name          398 non-null    object  \n",
            "dtypes: category(2), float64(4), int64(2), object(1)\n",
            "memory usage: 23.0+ KB\n",
            "None\n"
          ]
        }
      ],
      "source": [
        "import pandas as pd\n",
        "import numpy as np\n",
        "import scipy.stats as stats\n",
        "import matplotlib.pyplot as plt\n",
        "import seaborn as sns\n",
        "from scipy.stats import levene\n",
        "\n",
        "# Load the dataset\n",
        "cars = sns.load_dataset('mpg')\n",
        "\n",
        "# Print the number of unique values for each column\n",
        "unique_counts = cars.nunique()\n",
        "\n",
        "# Define a threshold for unique values to classify as categorical\n",
        "threshold = 10\n",
        "\n",
        "# Identify columns to convert to categorical\n",
        "categorical_cols = unique_counts[unique_counts < threshold].index.tolist()\n",
        "\n",
        "# Convert suitable columns to category\n",
        "for col in categorical_cols:\n",
        "    cars[col] = cars[col].astype('category')\n",
        "\n",
        "# Verify the changes\n",
        "print(cars.info())"
      ]
    },
    {
      "cell_type": "code",
      "source": [
        "from scipy.stats import f_oneway\n",
        "\n",
        "# Group the data by origin\n",
        "usa_weight = cars[cars['origin'] == 'usa']['weight']\n",
        "europe_weight = cars[cars['origin'] == 'europe']['weight']\n",
        "japan_weight = cars[cars['origin'] == 'japan']['weight']\n",
        "\n",
        "# Perform One-Way ANOVA\n",
        "f_stat, p_value = f_oneway(usa_weight, europe_weight, japan_weight)\n",
        "\n",
        "# Print the results\n",
        "print(f\"F-Statistic: {f_stat:.2f}\")\n",
        "print(f\"P-Value: {p_value:.4f}\")\n",
        "\n",
        "# Interpretation\n",
        "alpha = 0.05\n",
        "if p_value < alpha:\n",
        "    print(\"Reject the Null Hypothesis: At least one origin group has a different mean weight.\")\n",
        "else:\n",
        "    print(\"Fail to Reject the Null Hypothesis: Mean weight is the same across all origin groups.\")\n"
      ],
      "metadata": {
        "colab": {
          "base_uri": "https://localhost:8080/"
        },
        "id": "3S1CmVqj_1Ka",
        "outputId": "c8bd5e98-8b7c-42c1-d191-4b7b17aeb562"
      },
      "execution_count": 13,
      "outputs": [
        {
          "output_type": "stream",
          "name": "stdout",
          "text": [
            "F-Statistic: 112.74\n",
            "P-Value: 0.0000\n",
            "Reject the Null Hypothesis: At least one origin group has a different mean weight.\n"
          ]
        }
      ]
    },
    {
      "cell_type": "markdown",
      "source": [
        "### **Interpretation of the Results**\n",
        "\n",
        "1. **F-Statistic: 112.74**  \n",
        "   - This large F-statistic indicates that the variability **between the group means** (differences in mean weights for USA, Europe, and Japan) is much larger than the variability **within the groups**.\n",
        "\n",
        "2. **P-Value: 0.0000**  \n",
        "   - The p-value is effectively zero, far below the standard significance level (\\( \\alpha = 0.05 \\)).\n",
        "   - This means the observed differences in mean weights across the origin groups are **highly statistically significant**.\n",
        "\n",
        "3. **Decision**:  \n",
        "   - Since the p-value is smaller than \\( \\alpha = 0.05 \\), we **reject the null hypothesis**.\n",
        "   - Conclusion: At least one origin group has a significantly different mean weight compared to the others.\n",
        "\n",
        "\n",
        "\n"
      ],
      "metadata": {
        "id": "oPsEhgGMDHjc"
      }
    },
    {
      "cell_type": "code",
      "source": [
        "# Calculate the means and standard deviations for each origin group\n",
        "group_stats = cars.groupby('origin', observed=True)['weight'].agg(['mean', 'std', 'count']).reset_index()\n",
        "group_stats['error'] = group_stats['std'] / group_stats['count']**0.5  # Standard error of the mean\n",
        "\n",
        "# Define the color palette\n",
        "palette = sns.color_palette(\"tab20\", n_colors=3)\n",
        "\n",
        "# Set up the figure with a 1x2 grid\n",
        "fig, axes = plt.subplots(1, 2, figsize=(14, 6))\n",
        "\n",
        "# Plot 1: Boxplot\n",
        "sns.boxplot(data=cars, x='origin', y='weight', hue='origin', palette=palette, ax=axes[0])\n",
        "axes[0].set_title('Boxplot of Weight by Origin', fontsize=14, weight='bold')\n",
        "axes[0].set_xlabel('Origin', fontsize=12)\n",
        "axes[0].set_ylabel('Weight (lbs)', fontsize=12)\n",
        "\n",
        "# Plot 2: Barplot with Error Bars\n",
        "sns.barplot(data=group_stats, x='origin', y='mean', hue='origin', palette=palette, ax=axes[1], edgecolor='black', errorbar=None)\n",
        "\n",
        "# Add error bars to the barplot\n",
        "for index, row in group_stats.iterrows():\n",
        "    axes[1].errorbar(x=index, y=row['mean'], yerr=row['error'], fmt='none', c='black', capsize=5)\n",
        "\n",
        "# Add data labels to the barplot\n",
        "for index, row in group_stats.iterrows():\n",
        "    axes[1].text(index, row['mean'] + 100, f\"{row['mean']:.0f}\", ha='center', fontsize=10)\n",
        "\n",
        "axes[1].set_title('Mean Weight by Origin with Error Bars', fontsize=14, weight='bold')\n",
        "axes[1].set_xlabel('Origin', fontsize=12)\n",
        "axes[1].set_ylabel('Weight (lbs)', fontsize=12)\n",
        "axes[1].set_ylim(0, group_stats['mean'].max() + 500)  # Adjust y-axis for labels\n",
        "\n",
        "# Adjust layout and show the plot\n",
        "plt.tight_layout()\n",
        "plt.show()\n"
      ],
      "metadata": {
        "colab": {
          "base_uri": "https://localhost:8080/",
          "height": 405
        },
        "id": "DO17AMU-DYzm",
        "outputId": "1abbd560-9067-45fb-85c9-2f89b33bbf5f"
      },
      "execution_count": 25,
      "outputs": [
        {
          "output_type": "display_data",
          "data": {
            "text/plain": [
              "<Figure size 1400x600 with 2 Axes>"
            ],
            "image/png": "[encoded data removed]"
          },
          "metadata": {}
        }
      ]
    },
    {
      "cell_type": "markdown",
      "source": [
        "### **Interpretation of Tukey’s HSD Results**\n",
        "\n",
        "#### **Key Outputs**:\n",
        "1. **Europe vs. Japan**:\n",
        "   - **Mean Difference**: -202.07 (Europe cars weigh less than Japan cars, on average).\n",
        "   - **P-Value**: 0.1652 (not significant, \\( p > 0.05 \\)).\n",
        "   - **Conclusion**: There is **no significant difference** in the mean weight of cars between Europe and Japan.\n",
        "\n",
        "2. **Europe vs. USA**:\n",
        "   - **Mean Difference**: 938.63 (USA cars weigh significantly more than Europe cars, on average).\n",
        "   - **P-Value**: 0.0000 (highly significant, \\( p < 0.05 \\)).\n",
        "   - **Conclusion**: Cars from the USA are significantly **heavier** than those from Europe.\n",
        "\n",
        "3. **Japan vs. USA**:\n",
        "   - **Mean Difference**: 1140.70 (USA cars weigh significantly more than Japan cars, on average).\n",
        "   - **P-Value**: 0.0000 (highly significant, \\( p < 0.05 \\)).\n",
        "   - **Conclusion**: Cars from the USA are significantly **heavier** than those from Japan.\n",
        "\n",
        "---\n",
        "\n",
        "### **Key Insights**:\n",
        "- **USA cars** are the **heaviest** on average, significantly heavier than both Europe and Japan cars.\n",
        "- **Europe and Japan cars** have similar average weights, with no statistically significant difference.\n",
        "\n"
      ],
      "metadata": {
        "id": "LjH1U_TRFIMn"
      }
    },
    {
      "cell_type": "code",
      "source": [
        "from statsmodels.stats.multicomp import pairwise_tukeyhsd\n",
        "import pandas as pd\n",
        "\n",
        "# Perform Tukey's HSD test\n",
        "tukey = pairwise_tukeyhsd(endog=cars['weight'], groups=cars['origin'], alpha=0.05)\n",
        "\n",
        "# Print the results\n",
        "print(tukey)\n",
        "\n",
        "# Convert results to a DataFrame for easier readability\n",
        "tukey_results = pd.DataFrame(data=tukey.summary().data[1:], columns=tukey.summary().data[0])\n",
        "tukey_results.columns = ['Group 1', 'Group 2', 'Mean Diff', 'Lower CI', 'Upper CI', 'P-Value', 'Reject']\n",
        "\n",
        "# # Display the Tukey results\n",
        "# print(\"\\nTukey’s HSD Results:\")\n",
        "# print(tukey_results)\n"
      ],
      "metadata": {
        "colab": {
          "base_uri": "https://localhost:8080/"
        },
        "id": "noPZodMECPQR",
        "outputId": "c57ac1e1-47ee-4d99-d8f0-e1eb8fb76ebd"
      },
      "execution_count": 26,
      "outputs": [
        {
          "output_type": "stream",
          "name": "stdout",
          "text": [
            "   Multiple Comparison of Means - Tukey HSD, FWER=0.05   \n",
            "=========================================================\n",
            "group1 group2  meandiff p-adj    lower     upper   reject\n",
            "---------------------------------------------------------\n",
            "europe  japan -202.0722 0.1652 -463.6533    59.509  False\n",
            "europe    usa  938.6317    0.0  723.0447 1154.2187   True\n",
            " japan    usa 1140.7039    0.0  934.9256 1346.4822   True\n",
            "---------------------------------------------------------\n"
          ]
        }
      ]
    },
    {
      "cell_type": "markdown",
      "source": [
        "To better understand the **Tukey HSD results** table and identify key insights, you should focus on the following components:\n",
        "\n",
        "---\n",
        "\n",
        "### **How to Read the Tukey HSD Results Table**:\n",
        "\n",
        "1. **Group Comparisons (`group1` vs. `group2`)**:\n",
        "   - This column shows which two groups are being compared. Each row represents one pairwise comparison.\n",
        "\n",
        "2. **Mean Difference (`meandiff`)**:\n",
        "   - The average difference between the means of the two groups being compared.\n",
        "   - Positive values indicate that the first group (`group1`) has a higher mean than the second group (`group2`).\n",
        "   - Negative values indicate that the second group (`group2`) has a higher mean than the first group (`group1`).\n",
        "\n",
        "3. **P-Adjusted (`p-adj`)**:\n",
        "   - The **adjusted p-value** accounts for multiple comparisons, ensuring that the overall family-wise error rate is controlled (to reduce the risk of false positives).\n",
        "   - If \\( p < 0.05 \\), the difference is considered statistically significant.\n",
        "   - A significant p-value means the two groups have significantly different means.\n",
        "\n",
        "4. **Confidence Intervals (`lower`, `upper`)**:\n",
        "   - These define the range of values within which the true mean difference is likely to fall, with 95% confidence.\n",
        "   - If the confidence interval **does not include 0**, it indicates a statistically significant difference between the groups.\n",
        "\n",
        "5. **Reject**:\n",
        "   - Indicates whether the null hypothesis (equal means) is rejected for this pairwise comparison:\n",
        "     - **`True`**: Significant difference between the means.\n",
        "     - **`False`**: No significant difference.\n",
        "\n",
        "---\n",
        "\n",
        "### **How to Identify Key Insights**:\n",
        "\n",
        "1. **Look for `reject = True`**:\n",
        "   - Rows where `reject` is `True` indicate that the groups compared have significantly different means.\n",
        "\n",
        "2. **Focus on `meandiff`**:\n",
        "   - Check whether the mean difference is positive or negative to understand which group has the higher mean.\n",
        "   - Example: If `meandiff = 1140.70` for `Japan vs. USA`, it means USA cars are heavier than Japan cars by an average of 1140.70 lbs.\n",
        "\n",
        "3. **Check Confidence Intervals**:\n",
        "   - If the confidence interval **includes 0** (e.g., `lower < 0` and `upper > 0`), the result is **not significant**, even if the `meandiff` appears large.\n",
        "   - If the confidence interval does **not include 0**, it supports the conclusion of a significant difference.\n",
        "\n",
        "4. **Assess the Magnitude**:\n",
        "   - For significant comparisons (`reject = True`), consider the size of the `meandiff`. Larger differences are more meaningful and impactful.\n",
        "   - Example: A `meandiff` of 938.63 lbs for `Europe vs. USA` indicates a substantial weight difference.\n",
        "\n",
        "---\n",
        "\n",
        "### **Steps to Identify Key Insights in Your Results**:\n",
        "\n",
        "#### Example: Your Results\n",
        "| Group 1  | Group 2  | Mean Diff | P-Adj  | Lower    | Upper    | Reject |\n",
        "|----------|----------|-----------|--------|----------|----------|--------|\n",
        "| Europe   | Japan    | -202.07   | 0.1652 | -463.65  | 59.51    | False  |\n",
        "| Europe   | USA      | 938.63    | 0.0000 | 723.04   | 1154.22  | True   |\n",
        "| Japan    | USA      | 1140.70   | 0.0000 | 934.93   | 1346.48  | True   |\n",
        "\n",
        "1. **Identify Significant Comparisons**:\n",
        "   - `Europe vs. Japan`: **Not Significant** (`reject = False`, \\( p = 0.1652 \\), CI includes 0).\n",
        "   - `Europe vs. USA`: **Significant** (`reject = True`, \\( p = 0.0000 \\), CI does not include 0).\n",
        "   - `Japan vs. USA`: **Significant** (`reject = True`, \\( p = 0.0000 \\), CI does not include 0).\n",
        "\n",
        "2. **Compare the Groups**:\n",
        "   - `USA` cars are significantly heavier than both `Europe` and `Japan` cars.\n",
        "   - `Europe` and `Japan` cars have no significant weight difference.\n",
        "\n",
        "3. **Consider the Magnitudes**:\n",
        "   - `USA vs. Japan` has the largest difference (1140.70 lbs).\n",
        "   - `USA vs. Europe` also shows a substantial difference (938.63 lbs).\n",
        "   - `Europe vs. Japan` shows a much smaller difference (-202.07 lbs), explaining why it’s not significant.\n",
        "\n",
        "---\n",
        "\n",
        "### **Questions to Ask While Interpreting Tukey Results**:\n",
        "1. Which group comparisons are significant (`reject = True`)?\n",
        "2. Are the mean differences large enough to be practically meaningful, in addition to being statistically significant?\n",
        "3. What trends do the mean differences reveal (e.g., USA cars are consistently heavier)?\n",
        "4. How do the confidence intervals support or refute the significance of the results?\n",
        "\n"
      ],
      "metadata": {
        "id": "hfGgzqaNFHIq"
      }
    },
    {
      "cell_type": "code",
      "source": [],
      "metadata": {
        "id": "qUelPif3M0tk"
      },
      "execution_count": null,
      "outputs": []
    }
  ]
}