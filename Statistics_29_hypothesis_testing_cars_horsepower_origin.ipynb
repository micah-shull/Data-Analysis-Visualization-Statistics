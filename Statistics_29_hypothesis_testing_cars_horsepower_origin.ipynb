{
  "nbformat": 4,
  "nbformat_minor": 0,
  "metadata": {
    "colab": {
      "provenance": [],
      "toc_visible": true,
      "authorship_tag": "ABX9TyP/UcC3f5AZDyw8VH3b405C",
      "include_colab_link": true
    },
    "kernelspec": {
      "name": "python3",
      "display_name": "Python 3"
    },
    "language_info": {
      "name": "python"
    }
  },
  "cells": [
    {
      "cell_type": "markdown",
      "metadata": {
        "id": "view-in-github",
        "colab_type": "text"
      },
      "source": [
        "<a href=\"https://colab.research.google.com/github/micah-shull/Statistics/blob/main/Statistics_29_hypothesis_testing_cars_horsepower_origin.ipynb\" target=\"_parent\"><img src=\"https://colab.research.google.com/assets/colab-badge.svg\" alt=\"Open In Colab\"/></a>"
      ]
    },
    {
      "cell_type": "markdown",
      "source": [
        "## **Question**:\n",
        "Do cars from the USA, Europe, and Japan have similar variability in `horsepower`?\n",
        "\n",
        "---\n",
        "\n",
        "### **Hypotheses**:\n",
        "- **Null Hypothesis (H₀)**:  \n",
        "  The variance in horsepower is the same across all origin groups (USA, Europe, and Japan).  \n",
        "  *In other words, origin has no effect on the variability of horsepower.*\n",
        "\n",
        "- **Alternative Hypothesis (H₁)**:  \n",
        "  At least one origin group has a different variance in horsepower.  \n",
        "  *In other words, the variability in horsepower differs between origins.*\n",
        "\n",
        "---\n",
        "\n",
        "#### **Testing Approach**:\n",
        "1. Perform **Levene's Test** for equality of variances.\n",
        "2. Use the test results to determine whether the variances are significantly different.\n",
        "3. Visualize the spread of `horsepower` across origins using boxplots.\n",
        "\n",
        "\n",
        "\n"
      ],
      "metadata": {
        "id": "1d2WQQfKGPLn"
      }
    },
    {
      "cell_type": "code",
      "execution_count": null,
      "metadata": {
        "colab": {
          "base_uri": "https://localhost:8080/"
        },
        "id": "pnU2iABG4kL0",
        "outputId": "7635906d-f8d5-4809-d8a0-5435ab866bfd"
      },
      "outputs": [
        {
          "output_type": "stream",
          "name": "stdout",
          "text": [
            "<class 'pandas.core.frame.DataFrame'>\n",
            "RangeIndex: 398 entries, 0 to 397\n",
            "Data columns (total 9 columns):\n",
            " #   Column        Non-Null Count  Dtype   \n",
            "---  ------        --------------  -----   \n",
            " 0   mpg           398 non-null    float64 \n",
            " 1   cylinders     398 non-null    category\n",
            " 2   displacement  398 non-null    float64 \n",
            " 3   horsepower    392 non-null    float64 \n",
            " 4   weight        398 non-null    int64   \n",
            " 5   acceleration  398 non-null    float64 \n",
            " 6   model_year    398 non-null    int64   \n",
            " 7   origin        398 non-null    category\n",
            " 8   name          398 non-null    object  \n",
            "dtypes: category(2), float64(4), int64(2), object(1)\n",
            "memory usage: 23.0+ KB\n",
            "None\n"
          ]
        }
      ],
      "source": [
        "import pandas as pd\n",
        "import numpy as np\n",
        "import scipy.stats as stats\n",
        "import matplotlib.pyplot as plt\n",
        "import seaborn as sns\n",
        "from scipy.stats import levene\n",
        "\n",
        "# Load the dataset\n",
        "cars = sns.load_dataset('mpg')\n",
        "\n",
        "# Print the number of unique values for each column\n",
        "unique_counts = cars.nunique()\n",
        "\n",
        "# Define a threshold for unique values to classify as categorical\n",
        "threshold = 10\n",
        "\n",
        "# Identify columns to convert to categorical\n",
        "categorical_cols = unique_counts[unique_counts < threshold].index.tolist()\n",
        "\n",
        "# Convert suitable columns to category\n",
        "for col in categorical_cols:\n",
        "    cars[col] = cars[col].astype('category')\n",
        "\n",
        "# Verify the changes\n",
        "print(cars.info())"
      ]
    },
    {
      "cell_type": "code",
      "source": [
        "# Calculate the means, standard deviations, and counts for horsepower by origin\n",
        "group_stats = cars.groupby('origin', observed=True)['horsepower'].agg(['mean', 'std', 'count']).reset_index()\n",
        "group_stats['error'] = group_stats['std'] / group_stats['count']**0.5  # Standard error of the mean\n",
        "\n",
        "# Define the color palette\n",
        "palette = sns.color_palette(\"tab20\", n_colors=3)\n",
        "\n",
        "# Set up the figure with a 1x2 grid\n",
        "fig, axes = plt.subplots(1, 2, figsize=(14, 6))\n",
        "\n",
        "# Plot 1: Boxplot\n",
        "sns.boxplot(data=cars, x='origin', y='horsepower', hue='origin', palette=palette, ax=axes[0])\n",
        "axes[0].set_title('Boxplot of Horsepower by Origin', fontsize=14, weight='bold')\n",
        "axes[0].set_xlabel('Origin', fontsize=12)\n",
        "axes[0].set_ylabel('Horsepower', fontsize=12)\n",
        "\n",
        "# Plot 2: Barplot with Error Bars\n",
        "sns.barplot(data=group_stats, x='origin', y='mean', hue='origin', palette=palette, ax=axes[1], edgecolor='black', errorbar=None)\n",
        "\n",
        "# Add error bars to the barplot\n",
        "for index, row in group_stats.iterrows():\n",
        "    axes[1].errorbar(x=index, y=row['mean'], yerr=row['error'], fmt='none', c='black', capsize=5)\n",
        "\n",
        "# Add data labels to the barplot\n",
        "for index, row in group_stats.iterrows():\n",
        "    axes[1].text(index, row['mean'] + 5, f\"{row['mean']:.1f}\", ha='center', fontsize=10)\n",
        "\n",
        "axes[1].set_title('Mean Horsepower by Origin with Error Bars', fontsize=14, weight='bold')\n",
        "axes[1].set_xlabel('Origin', fontsize=12)\n",
        "axes[1].set_ylabel('Horsepower', fontsize=12)\n",
        "axes[1].set_ylim(0, group_stats['mean'].max() + 20)  # Adjust y-axis for labels\n",
        "\n",
        "# Adjust layout and show the plot\n",
        "plt.tight_layout()\n",
        "plt.show()\n"
      ],
      "metadata": {
        "colab": {
          "base_uri": "https://localhost:8080/",
          "height": 405
        },
        "id": "4ejiMwnDDYsC",
        "outputId": "11b41c9b-adc6-4592-9894-3fc4025a7b75"
      },
      "execution_count": null,
      "outputs": [
        {
          "output_type": "display_data",
          "data": {
            "text/plain": [
              "<Figure size 1400x600 with 2 Axes>"
            ],
            "image/png": "[encoded data removed]"
          },
          "metadata": {}
        }
      ]
    },
    {
      "cell_type": "markdown",
      "source": [
        "### **Why Welch's ANOVA?**\n",
        "1. **Standard ANOVA Assumptions**:\n",
        "   - Assumes **equal variances** across groups.\n",
        "   - Assumes the dependent variable is normally distributed within each group.\n",
        "\n",
        "2. **When to Use Welch's ANOVA**:\n",
        "   - If **Levene's Test** shows significant differences in variances, the assumption of equal variances for a standard ANOVA is violated.\n",
        "   - Welch’s ANOVA is a robust alternative that does **not require equal variances**.\n",
        "\n",
        "3. **Key Difference**:\n",
        "   - Unlike standard ANOVA, Welch's ANOVA adjusts the F-statistic to account for unequal variances, making it more reliable in your case.\n",
        "\n",
        "---\n",
        "\n",
        "### **Why Use the Pingouin Library?**\n",
        "1. **User-Friendly and Modern**:\n",
        "   - The `pingouin` library is designed specifically for statistical analysis in Python. It’s clean, simple, and well-documented.\n",
        "   - It includes modern methods like Welch’s ANOVA, which aren’t available in core Python libraries like `scipy` or `statsmodels`.\n",
        "\n",
        "2. **Standard Libraries Don’t Have Welch’s ANOVA**:\n",
        "   - The `scipy.stats` module provides basic ANOVA (`f_oneway`) but does not support Welch’s ANOVA.\n",
        "   - `statsmodels` is another popular library but requires custom implementations for Welch’s ANOVA.\n",
        "\n",
        "3. **Output**:\n",
        "   - `pingouin.welch_anova()` gives a clear and concise output, including the F-statistic, degrees of freedom, and p-value, making it easy to interpret results.\n"
      ],
      "metadata": {
        "id": "nKSqJUlpJz7a"
      }
    },
    {
      "cell_type": "code",
      "source": [
        "# !pip install pingouin"
      ],
      "metadata": {
        "id": "r1DTLsKoHzXo"
      },
      "execution_count": null,
      "outputs": []
    },
    {
      "cell_type": "code",
      "source": [
        "import pingouin as pg\n",
        "from statsmodels.stats.multicomp import pairwise_tukeyhsd\n",
        "\n",
        "# Drop missing horsepower values\n",
        "cars = cars.dropna(subset=['horsepower'])\n",
        "\n",
        "# Group horsepower by origin\n",
        "usa_hp = cars[cars['origin'] == 'usa']['horsepower']\n",
        "europe_hp = cars[cars['origin'] == 'europe']['horsepower']\n",
        "japan_hp = cars[cars['origin'] == 'japan']['horsepower']\n",
        "\n",
        "# Perform Levene's Test\n",
        "levene_stat, levene_p = levene(usa_hp, europe_hp, japan_hp)\n",
        "print(f\"Levene's Test Statistic: {levene_stat:.2f}\")\n",
        "print(f\"P-Value: {levene_p:.4f}\")\n",
        "\n",
        "# Interpretation\n",
        "alpha = 0.05\n",
        "if levene_p < alpha:\n",
        "    print(\"\\nReject the Null Hypothesis: Variances in horsepower differ across origin groups.\")\n",
        "else:\n",
        "    print(\"\\nFail to Reject the Null Hypothesis: Variances in horsepower are similar across origin groups.\")\n",
        "print('\\n')\n",
        "\n",
        "# Perform Welch's ANOVA\n",
        "welch_anova = pg.welch_anova(data=cars, dv='horsepower', between='origin')\n",
        "print(welch_anova)\n",
        "\n",
        "# Interpretation\n",
        "if welch_anova['p-unc'][0] < 0.05:\n",
        "    print(\"\\nReject the Null Hypothesis: The mean horsepower differs significantly across origin groups.\")\n",
        "else:\n",
        "    print(\"\\nFail to Reject the Null Hypothesis: The mean horsepower is the same across origin groups.\")\n",
        "print('\\n')\n",
        "\n",
        "# Perform Tukey's HSD test\n",
        "tukey = pairwise_tukeyhsd(endog=cars['horsepower'], groups=cars['origin'], alpha=0.05)\n",
        "print(tukey)"
      ],
      "metadata": {
        "colab": {
          "base_uri": "https://localhost:8080/"
        },
        "id": "J9ohGZ9rDYwv",
        "outputId": "85f8b46e-f082-49ae-c183-c0cee407c89b"
      },
      "execution_count": null,
      "outputs": [
        {
          "output_type": "stream",
          "name": "stdout",
          "text": [
            "Levene's Test Statistic: 26.53\n",
            "P-Value: 0.0000\n",
            "\n",
            "Reject the Null Hypothesis: Variances in horsepower differ across origin groups.\n",
            "\n",
            "\n",
            "   Source  ddof1       ddof2          F         p-unc       np2\n",
            "0  origin      2  194.585614  84.843672  3.203261e-27  0.239765\n",
            "\n",
            "Reject the Null Hypothesis: The mean horsepower differs significantly across origin groups.\n",
            "\n",
            "\n",
            " Multiple Comparison of Means - Tukey HSD, FWER=0.05 \n",
            "=====================================================\n",
            "group1 group2 meandiff p-adj   lower    upper  reject\n",
            "-----------------------------------------------------\n",
            "europe  japan  -0.7234 0.9907 -13.8185 12.3717  False\n",
            "europe    usa  38.4902    0.0  27.6396 49.3407   True\n",
            " japan    usa  39.2135    0.0  28.9713 49.4558   True\n",
            "-----------------------------------------------------\n"
          ]
        }
      ]
    },
    {
      "cell_type": "markdown",
      "source": [
        "### **Interpretation of the Results**\n",
        "\n",
        "#### **1. Levene's Test for Variances**\n",
        "- **Test Statistic**: 26.53  \n",
        "- **P-Value**: 0.0000  \n",
        "  - The p-value is far below \\( \\alpha = 0.05 \\), so we **reject the null hypothesis**.\n",
        "  - Conclusion: The variances in `horsepower` differ significantly across the `origin` groups (USA, Europe, Japan). This is why Welch’s ANOVA was chosen instead of standard ANOVA.\n",
        "\n",
        "---\n",
        "\n",
        "#### **2. Welch’s ANOVA**\n",
        "- **F-Statistic**: 84.84  \n",
        "- **P-Value**: \\( 3.20 \\times 10^{-27} \\) (effectively 0)  \n",
        "  - The p-value is far below \\( \\alpha = 0.05 \\), so we **reject the null hypothesis**.\n",
        "  - Conclusion: The mean horsepower differs significantly across at least one pair of origin groups.\n",
        "- **Partial Eta Squared (\\( \\eta^2_p \\))**: 0.24  \n",
        "  - This indicates that 24% of the variability in `horsepower` can be attributed to differences between the `origin` groups. This is a moderate-to-large effect size.\n",
        "\n",
        "---\n",
        "\n",
        "#### **3. Tukey’s HSD Test (Post-Hoc Analysis)**\n",
        "\n",
        "1. **Europe vs. Japan**:\n",
        "   - Mean Difference: -0.72  \n",
        "   - \\( p = 0.9907 \\): Not significant.  \n",
        "   - Conclusion: No significant difference in mean horsepower between Europe and Japan.\n",
        "\n",
        "2. **Europe vs. USA**:\n",
        "   - Mean Difference: 38.49  \n",
        "   - \\( p = 0.0000 \\): Highly significant.  \n",
        "   - Conclusion: USA cars have significantly higher mean horsepower than Europe cars.\n",
        "\n",
        "3. **Japan vs. USA**:\n",
        "   - Mean Difference: 39.21  \n",
        "   - \\( p = 0.0000 \\): Highly significant.  \n",
        "   - Conclusion: USA cars have significantly higher mean horsepower than Japan cars.\n",
        "\n",
        "---\n",
        "\n",
        "### **Summary of Results**\n",
        "1. **Variances**:\n",
        "   - Variances in horsepower differ significantly between origins.\n",
        "2. **Means**:\n",
        "   - The mean horsepower differs significantly across the origins.\n",
        "   - **USA cars** have the highest mean horsepower, significantly higher than both Europe and Japan.\n",
        "   - **Europe and Japan cars** have similar mean horsepower.\n",
        "3. **Effect Size**:\n",
        "   - A large proportion (24%) of the variability in horsepower is explained by origin.\n",
        "\n"
      ],
      "metadata": {
        "id": "ZfjNMsBoJZXH"
      }
    },
    {
      "cell_type": "code",
      "source": [],
      "metadata": {
        "id": "dELZgqIbDYmU"
      },
      "execution_count": null,
      "outputs": []
    },
    {
      "cell_type": "code",
      "source": [],
      "metadata": {
        "id": "qUelPif3M0tk"
      },
      "execution_count": null,
      "outputs": []
    }
  ]
}